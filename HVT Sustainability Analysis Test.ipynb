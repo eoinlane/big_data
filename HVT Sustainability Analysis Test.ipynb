{
 "cells": [
  {
   "cell_type": "code",
   "execution_count": 1,
   "metadata": {
    "collapsed": true
   },
   "outputs": [],
   "source": [
    "from pyspark import SparkConf, SparkContext\n",
    "\n",
    "def getSparkContext():\n",
    "    \"\"\"\n",
    "    Gets the Spark Context\n",
    "    \"\"\"\n",
    "    conf = (SparkConf()\n",
    "         .setMaster(\"local\") # run on local\n",
    "         .setAppName(\"Logistic Regression\") # Name of App\n",
    "         .set(\"spark.executor.memory\", \"1g\")) # Set 1 gig of memory\n",
    "    sc = SparkContext(conf = conf) \n",
    "    return sc"
   ]
  },
  {
   "cell_type": "code",
   "execution_count": 2,
   "metadata": {
    "collapsed": false
   },
   "outputs": [],
   "source": [
    "sc = getSparkContext()"
   ]
  },
  {
   "cell_type": "code",
   "execution_count": 3,
   "metadata": {
    "collapsed": false
   },
   "outputs": [],
   "source": [
    "from pyspark.sql import HiveContext\n",
    "from pyspark.mllib.clustering import KMeans\n",
    "from pyspark.mllib.linalg import Vectors\n",
    "from pyspark.mllib.stat import Statistics\n",
    "from math import sqrt\n",
    "import matplotlib.pyplot as plt\n",
    "from pylab import *\n",
    "from pyspark.mllib.classification import LogisticRegressionWithSGD\n",
    "from pyspark.mllib.regression import LabeledPoint\n",
    "from numpy import array\n",
    "\n",
    "%matplotlib inline\n",
    "\n",
    "hiveContext = HiveContext(sc)\n",
    "\n",
    "#Row(period=1964, serial=1520, model=1, repaircost=11447.252, totalcost=18947.252)\n",
    "\n",
    "hvt_failure_SDF = hiveContext.sql('SELECT period, serialf FROM hvt_failuref')\n",
    "\n",
    "# Constructs a Spark DataFrame (SDF) from the table in Hive.\n",
    "hvt_SDF = hiveContext.sql('SELECT model, serial, inceptionperiod, location FROM hvt')\n",
    "\n",
    "hvt_operating_SDF= hiveContext.sql('SELECT serialo, period FROM hvt_operatingo')"
   ]
  },
  {
   "cell_type": "code",
   "execution_count": 4,
   "metadata": {
    "collapsed": false
   },
   "outputs": [
    {
     "data": {
      "text/plain": [
       "1000000L"
      ]
     },
     "execution_count": 4,
     "metadata": {},
     "output_type": "execute_result"
    }
   ],
   "source": [
    "hvt_operating_SDF.count()"
   ]
  },
  {
   "cell_type": "code",
   "execution_count": 5,
   "metadata": {
    "collapsed": false
   },
   "outputs": [
    {
     "data": {
      "text/plain": [
       "31954L"
      ]
     },
     "execution_count": 5,
     "metadata": {},
     "output_type": "execute_result"
    }
   ],
   "source": [
    "hvt_failure_SDF.count()"
   ]
  },
  {
   "cell_type": "code",
   "execution_count": 6,
   "metadata": {
    "collapsed": false
   },
   "outputs": [
    {
     "data": {
      "text/plain": [
       "10000L"
      ]
     },
     "execution_count": 6,
     "metadata": {},
     "output_type": "execute_result"
    }
   ],
   "source": [
    "hvt_SDF.count()"
   ]
  },
  {
   "cell_type": "code",
   "execution_count": 7,
   "metadata": {
    "collapsed": false
   },
   "outputs": [
    {
     "data": {
      "text/plain": [
       "12527L"
      ]
     },
     "execution_count": 7,
     "metadata": {},
     "output_type": "execute_result"
    }
   ],
   "source": [
    "hvt_failure_SDF1 = hvt_failure_SDF.filter(hvt_failure_SDF.period < 2010)\n",
    "hvt_failure_SDF1.count()"
   ]
  },
  {
   "cell_type": "code",
   "execution_count": 8,
   "metadata": {
    "collapsed": false
   },
   "outputs": [],
   "source": [
    "hvt_SDF_ops = hvt_SDF.join(hvt_operating_SDF, hvt_operating_SDF.serialo == hvt_SDF.serial, \"left_outer\")\n",
    "#hvt_SDF_ops.show()"
   ]
  },
  {
   "cell_type": "code",
   "execution_count": 9,
   "metadata": {
    "collapsed": false
   },
   "outputs": [
    {
     "data": {
      "text/plain": [
       "1000000L"
      ]
     },
     "execution_count": 9,
     "metadata": {},
     "output_type": "execute_result"
    }
   ],
   "source": [
    "hvt_SDF_ops.count()"
   ]
  },
  {
   "cell_type": "code",
   "execution_count": 10,
   "metadata": {
    "collapsed": false
   },
   "outputs": [],
   "source": [
    "hvt_SDF_ops_age = hvt_SDF_ops.select(hvt_SDF_ops.model, hvt_SDF_ops.serial, hvt_SDF_ops.location, hvt_SDF_ops.inceptionperiod ,hvt_SDF_ops.period - hvt_SDF_ops.inceptionperiod)\n",
    "#hvt_SDF_ops_age.show()"
   ]
  },
  {
   "cell_type": "code",
   "execution_count": 11,
   "metadata": {
    "collapsed": false
   },
   "outputs": [
    {
     "data": {
      "text/plain": [
       "1000000L"
      ]
     },
     "execution_count": 11,
     "metadata": {},
     "output_type": "execute_result"
    }
   ],
   "source": [
    "hvt_SDF_ops_age.count()"
   ]
  },
  {
   "cell_type": "code",
   "execution_count": 12,
   "metadata": {
    "collapsed": false
   },
   "outputs": [],
   "source": [
    "# Join hvt reference data with the failure data\n",
    "\n",
    "hvt_SDF_fail = hvt_SDF.join(hvt_failure_SDF, hvt_failure_SDF.serialf == hvt_SDF.serial, \"left_outer\")\n",
    "#hvt_SDF_fail.show()"
   ]
  },
  {
   "cell_type": "code",
   "execution_count": 13,
   "metadata": {
    "collapsed": false
   },
   "outputs": [
    {
     "data": {
      "text/plain": [
       "31954L"
      ]
     },
     "execution_count": 13,
     "metadata": {},
     "output_type": "execute_result"
    }
   ],
   "source": [
    "hvt_SDF_fail.count()"
   ]
  },
  {
   "cell_type": "code",
   "execution_count": 14,
   "metadata": {
    "collapsed": false
   },
   "outputs": [],
   "source": [
    "# Converte from period to age at fail\n",
    "hvt_SDF_fail_age = hvt_SDF_fail.select(hvt_SDF_fail.model, hvt_SDF_fail.serial, hvt_SDF_fail.location, hvt_SDF_fail.inceptionperiod ,hvt_SDF_fail.period - hvt_SDF_fail.inceptionperiod)\n",
    "\n",
    "#hvt_SDF_fail_age.show()"
   ]
  },
  {
   "cell_type": "code",
   "execution_count": 15,
   "metadata": {
    "collapsed": false
   },
   "outputs": [
    {
     "data": {
      "text/plain": [
       "31954L"
      ]
     },
     "execution_count": 15,
     "metadata": {},
     "output_type": "execute_result"
    }
   ],
   "source": [
    "hvt_SDF_fail_age.count()"
   ]
  },
  {
   "cell_type": "code",
   "execution_count": 16,
   "metadata": {
    "collapsed": false
   },
   "outputs": [],
   "source": [
    "hvt_SDF_ops_age_vector = hvt_SDF_ops_age.map(lambda x: Vectors.dense(x)).cache()\n",
    "hvt_SDF_fail_age_vector = hvt_SDF_fail_age.map(lambda x: Vectors.dense(x)).cache()\n"
   ]
  },
  {
   "cell_type": "code",
   "execution_count": 17,
   "metadata": {
    "collapsed": false
   },
   "outputs": [],
   "source": [
    "hvt_SDF_ops_age_vector_labeledPoint = hvt_SDF_ops_age_vector.map(lambda x: LabeledPoint(1.0,x)) \n",
    "hvt_SDF_fail_age_vector_labeledPoint = hvt_SDF_fail_age_vector.map(lambda x: LabeledPoint(0.0,x))\n",
    "#hvt_SDF_ops_age_vector_labeledPoint.count()"
   ]
  },
  {
   "cell_type": "code",
   "execution_count": 42,
   "metadata": {
    "collapsed": false
   },
   "outputs": [
    {
     "data": {
      "text/plain": [
       "1031954"
      ]
     },
     "execution_count": 42,
     "metadata": {},
     "output_type": "execute_result"
    }
   ],
   "source": [
    "hvt_SDF_labeledPoint = hvt_SDF_ops_age_vector_labeledPoint + hvt_SDF_fail_age_vector_labeledPoint\n",
    "hvt_SDF_labeledPoint.count()"
   ]
  },
  {
   "cell_type": "code",
   "execution_count": 19,
   "metadata": {
    "collapsed": false
   },
   "outputs": [
    {
     "name": "stdout",
     "output_type": "stream",
     "text": [
      "Training Error = 0.0309645584978\n"
     ]
    }
   ],
   "source": [
    "# Build and train the model\n",
    "parsedData = hvt_SDF_labeledPoint\n",
    "model = LogisticRegressionWithSGD.train(parsedData)\n",
    "\n",
    "# Evaluating the model on training data\n",
    "labelsAndPreds = parsedData.map(lambda p: (p.label, model.predict(p.features)))\n",
    "trainErr = labelsAndPreds.filter(lambda (v, p): v != p).count() / float(parsedData.count())\n",
    "print(\"Training Error = \" + str(trainErr))\n"
   ]
  },
  {
   "cell_type": "code",
   "execution_count": 41,
   "metadata": {
    "collapsed": false
   },
   "outputs": [
    {
     "data": {
      "text/plain": [
       "1031954"
      ]
     },
     "execution_count": 41,
     "metadata": {},
     "output_type": "execute_result"
    }
   ],
   "source": [
    "labelsAndPreds.count()"
   ]
  },
  {
   "cell_type": "code",
   "execution_count": 43,
   "metadata": {
    "collapsed": false
   },
   "outputs": [
    {
     "data": {
      "text/plain": [
       "1.0"
      ]
     },
     "execution_count": 43,
     "metadata": {},
     "output_type": "execute_result"
    }
   ],
   "source": [
    "# Use the model to predict\n",
    "model.clearThreshold()\n",
    "# Test Data\n",
    "#model.predict([1.0, 31.0, 5.0, 1935.0, 100.0])\n",
    "#2012\t2754\t2\t42904.893\t117904.89\n",
    "#2\t2754\t1994\t5\t1500\t-8\t5\t0\t30\t3\t100\n",
    "model.predict([2.0, 2754.0, 5.0, 1994.0, 19.0])"
   ]
  },
  {
   "cell_type": "code",
   "execution_count": 36,
   "metadata": {
    "collapsed": false
   },
   "outputs": [
    {
     "data": {
      "text/plain": [
       "{'label': 1.0, 'preds': 1.0}"
      ]
     },
     "execution_count": 36,
     "metadata": {},
     "output_type": "execute_result"
    }
   ],
   "source": [
    "labelsAndPreds.first()\n",
    "#schemaString = \"coords\"\n",
    "# Convert back to the orginal DF schema - DataFrame[leak_no: bigint, cause: bigint, x_coord: double, y_coord: double, diameter: bigint]\n",
    "labelsAndPreds_with_schema = labelsAndPreds.map(lambda v: {\"label\": float(v[0]), \"preds\": float(v[1])})\n",
    "\n",
    "labelsAndPreds_with_schema.first()"
   ]
  },
  {
   "cell_type": "code",
   "execution_count": 37,
   "metadata": {
    "collapsed": false
   },
   "outputs": [
    {
     "name": "stdout",
     "output_type": "stream",
     "text": [
      "DataFrame[label: double, preds: double]\n",
      "root\n",
      " |-- label: double (nullable = true)\n",
      " |-- preds: double (nullable = true)\n",
      "\n"
     ]
    }
   ],
   "source": [
    "data_frame_table = hiveContext.createDataFrame(labelsAndPreds_with_schema)\n",
    "print data_frame_table\n",
    "data_frame_table.count()\n",
    "data_frame_table.printSchema()"
   ]
  },
  {
   "cell_type": "code",
   "execution_count": 39,
   "metadata": {
    "collapsed": false
   },
   "outputs": [
    {
     "data": {
      "text/plain": [
       "DataFrame[]"
      ]
     },
     "execution_count": 39,
     "metadata": {},
     "output_type": "execute_result"
    }
   ],
   "source": [
    "data_frame_table.registerTempTable(\"hvt_labelsAndPreds\") \n",
    "hiveContext.sql('create table hvt_labelsAndPreds as select label, preds from hvt_labelsAndPreds')"
   ]
  },
  {
   "cell_type": "code",
   "execution_count": 45,
   "metadata": {
    "collapsed": true
   },
   "outputs": [],
   "source": [
    "labelsAndPreds.saveAsTextFile(\"hdfs://sandbox.hortonworks.com:8020/user/hue/file.txt\")"
   ]
  },
  {
   "cell_type": "code",
   "execution_count": null,
   "metadata": {
    "collapsed": true
   },
   "outputs": [],
   "source": [
    "from pyspark.mllib.linalg import DenseVector\n",
    "from pyspark.mllib.regression import LabeledPoint\n",
    "\n",
    "feature_matrix_labeledPoint = feature_matrix_vectors.map(lambda v: LabeledPoint(1.0 if NaN in v else 0, v)).collect()"
   ]
  }
 ],
 "metadata": {
  "kernelspec": {
   "display_name": "Python 2",
   "language": "python",
   "name": "python2"
  },
  "language_info": {
   "codemirror_mode": {
    "name": "ipython",
    "version": 2
   },
   "file_extension": ".py",
   "mimetype": "text/x-python",
   "name": "python",
   "nbconvert_exporter": "python",
   "pygments_lexer": "ipython2",
   "version": "2.7.6"
  }
 },
 "nbformat": 4,
 "nbformat_minor": 0
}
