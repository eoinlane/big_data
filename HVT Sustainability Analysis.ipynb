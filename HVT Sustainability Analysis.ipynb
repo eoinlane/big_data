{
 "cells": [
  {
   "cell_type": "markdown",
   "metadata": {},
   "source": [
    "Set the Spark Context"
   ]
  },
  {
   "cell_type": "code",
   "execution_count": 1,
   "metadata": {
    "collapsed": false
   },
   "outputs": [],
   "source": [
    "from pyspark import  SparkContext\n",
    "sc = SparkContext( 'local', 'pyspark')"
   ]
  },
  {
   "cell_type": "markdown",
   "metadata": {},
   "source": [
    "Import some libraries and get in a data table from Hive. Constructs a Spark DataFrame(s) from table(s) in Hive using the hive context. https://spark.apache.org/docs/1.3.1/sql-programming-guide.html"
   ]
  },
  {
   "cell_type": "code",
   "execution_count": 8,
   "metadata": {
    "collapsed": false
   },
   "outputs": [
    {
     "name": "stdout",
     "output_type": "stream",
     "text": [
      "Row(model=1, serial=0, inceptionperiod=1978, location=35, rating=1000, uprating=0, loadslope=0, modlevel=3, hightempdays=15, criticality=3, accessibility=100)\n",
      "Row(model=1, serial=0, period=1978, rating=1000, loadfactor=1.00403, load=1004.03, damage=1.22069, maintenancescheduled=0, maintenanceperformed=0, hightempdays=13, externalremaininglife=98.7081, scheduledmaintenancecost=0)\n",
      "Row(period=1964, serial=1520, model=1, repaircost=11447.252, totalcost=18947.252)\n"
     ]
    }
   ],
   "source": [
    "from pyspark.sql import HiveContext\n",
    "from pyspark.mllib.clustering import KMeans\n",
    "from pyspark.mllib.linalg import Vectors\n",
    "from pyspark.mllib.stat import Statistics\n",
    "from math import sqrt\n",
    "import matplotlib.pyplot as plt\n",
    "from pylab import *\n",
    "\n",
    "%matplotlib inline\n",
    "\n",
    "hiveContext = HiveContext(sc)\n",
    "\n",
    "# Constructs a Spark DataFrame (SDF) from the table in Hive.\n",
    "hvt_SDF = hiveContext.sql('SELECT * FROM hvt')\n",
    "\n",
    "hvt_operating_SDF= hiveContext.sql('SELECT * FROM hvt_operating')\n",
    "\n",
    "hvt_failure_SDF = hiveContext.sql('SELECT * FROM hvt_failure')\n",
    "\n",
    "print hvt_SDF.first()\n",
    "print hvt_operating_SDF.first()\n",
    "print hvt_failure_SDF.first()\n"
   ]
  },
  {
   "cell_type": "code",
   "execution_count": 9,
   "metadata": {
    "collapsed": false
   },
   "outputs": [],
   "source": [
    "# Convert Spark DataFrame to Panda DataFrame (PDF)\n",
    "hvt_PDF = hvt.toPandas()\n",
    "\n",
    "# Create a Spark DataFrame from Pandas\n",
    "spark_df = hiveContext.createDataFrame(hvt_PDF)\n"
   ]
  },
  {
   "cell_type": "code",
   "execution_count": 10,
   "metadata": {
    "collapsed": false
   },
   "outputs": [
    {
     "data": {
      "image/png": "[encoded data removed]",
      "text/plain": [
       "<matplotlib.figure.Figure at 0x4692d90>"
      ]
     },
     "metadata": {},
     "output_type": "display_data"
    }
   ],
   "source": [
    "%matplotlib inline\n",
    "\n",
    "x = hvt_PDF.inceptionperiod\n",
    "y = hvt_PDF.rating\n",
    "z = hvt_PDF.hightempdays\n",
    "z1 = pandas_df.criticality\n",
    "#fig = plt.figure()\n",
    "fig, axes = plt.subplots(1, 4, figsize=(18,3))\n",
    "\n",
    "axes[0].hist(x, 50, facecolor='g')\n",
    "axes[0].set_xlabel('Inception Period')\n",
    "axes[0].set_ylabel('Asset')\n",
    "axes[0].set_title('Histogram');\n",
    "\n",
    "axes[1].hist(y, 50, facecolor='b')\n",
    "axes[1].set_xlabel('Rating')\n",
    "#axes[1].set_ylabel('Asset')\n",
    "axes[1].set_title('Histogram');\n",
    "\n",
    "axes[2].hist(z, 50, facecolor='r')\n",
    "axes[2].set_xlabel('High Temp Days')\n",
    "#axes[2].set_ylabel('No. of Leaks')\n",
    "axes[2].set_title('Histogram');\n",
    "\n",
    "axes[3].hist(z1, 50, facecolor='y')\n",
    "axes[3].set_xlabel('Criticality')\n",
    "#axes[3].set_ylabel('No. of Leaks')\n",
    "axes[3].set_title('Histogram');"
   ]
  },
  {
   "cell_type": "markdown",
   "metadata": {},
   "source": [
    "From the above histogram we can say that the majority of the asset were installed somtime 1960-1980. The majority (70%) have a rating between 900-1000. Over 60% of these asset have been exposed to 30 high tempature days and 10% of these assets are in v important."
   ]
  },
  {
   "cell_type": "code",
   "execution_count": null,
   "metadata": {
    "collapsed": false
   },
   "outputs": [],
   "source": [
    "# Convert Spark DataFrame to Pandas\n",
    "hvt_operating_PDF = hvt_operating_SDF.toPandas()\n",
    "\n",
    "# Create a Spark DataFrame from Pandas\n",
    "spark_df = hiveContext.createDataFrame(hvt_operating_PDF)"
   ]
  },
  {
   "cell_type": "code",
   "execution_count": null,
   "metadata": {
    "collapsed": false
   },
   "outputs": [],
   "source": [
    "x = hvt_operating_PDF.loadfactor\n",
    "y = hvt_operating_PDF.hightempdays\n",
    "z = hvt_operating_PDF.externalremaininglife\n",
    "z1 = hvt_operating_PDF.scheduledmaintenancecost\n",
    "\n",
    "#fig = plt.figure()\n",
    "fig, axes = plt.subplots(1, 4, figsize=(18,3))\n",
    "\n",
    "\n",
    "axes[0].hist(x, 50, facecolor='b')\n",
    "axes[0].set_xlabel('Load Factor')\n",
    "#axes[1].set_ylabel('Asset')\n",
    "axes[0].set_title('Histogram');\n",
    "\n",
    "axes[1].hist(y, 50, facecolor='r')\n",
    "axes[1].set_xlabel('High Temp Days')\n",
    "#axes[1].set_ylabel('Asset')\n",
    "axes[1].set_title('Histogram');\n",
    "\n",
    "axes[2].hist(z, 50, facecolor='g')   \n",
    "axes[2].set_xlabel('External Remaining life')\n",
    "#axes[2].set_ylabel('No. of Leaks')\n",
    "axes[2].set_title('Histogram');\n",
    "\n",
    "axes[3].hist(z1, 50, facecolor='y')\n",
    "axes[3].set_xlabel('Scheduled Maintenance Cost')\n",
    "#axes[3].set_ylabel('No. of Leaks')\n",
    "axes[3].set_title('Histogram');"
   ]
  },
  {
   "cell_type": "markdown",
   "metadata": {
    "collapsed": true
   },
   "source": [
    "$$ P = \\frac{e^{\\alpha+{\\beta}x}}{1+e^{\\alpha+{\\beta}x}} $$"
   ]
  },
  {
   "cell_type": "markdown",
   "metadata": {},
   "source": [
    "Logistic regression can in many ways be seen to be similar to ordinary regression. It models the relationship between a dependent and one or more independent variables, and allows us to look at the fit of the model as well as at the significance of the relationships (between dependent and independent variables) that we are modelling. However, the underlying principle of binomial logistic regression, and its statistical calculation, are quite different to ordinary linear regression. While ordinary regression uses ordinary least squares to find a best fitting line, and comes up with coefficients that predict the change in the dependent variable for one unit change in the independent variable, logistic regression estimates the probability of an event occurring (e.g. the probability of a pupil continuing in education post 16). What we want to predict from a knowledge of relevant independent variables is not a precise numerical value of a dependent variable, but rather the probability (p) that it is 1 (event occurring) rather than 0 (event not occurring). This means that, while in linear regression, the relationship between the dependent and the independent variables is linear, this assumption is not made in logistic regression. Instead, the logistic regression function is used.\n",
    "\n",
    "This can be written as:\n",
    "$$ P = \\frac{e^{\\alpha+{\\beta}x}}{1+e^{\\alpha+{\\beta}x}} $$\n",
    "\n",
    "where P is the probability of a 1, e is the base of the natural logarithm (about 2.718) and $$\\alpha$$ and $$\\beta$$ are the parameters of the model (as in normal linear regression). The value of $$\\alpha$$ yields P when x is zero, and $$\\beta$$ indicates how the probability of a 1 changes when x changes by a single unit. Because the relation between x and P is nonlinear, $$\\beta$$ does not have as straightforward an interpretation in this model as it does in ordinary linear regression.\n",
    "\n",
    "An important concept in logistic regression is that of odds ratios (see also Module 5 Unit 5 on log-linear modelling). Logistic regression, being based on the probability of an event occurring, allows us to calculate these, which are defined the ratio of the odds of an event occurring to it not occurring. If we look at our previous example, suppose, for example, that the probability of staying on in education post 16 is .8. Therefore p = .8. Then the probability of not staying on in education will be 1 - p = .2. \n",
    "\n",
    "The odds of staying on are then defined as\n",
    "odds(staying on) = $$\\frac{p}{q}= \\frac{0.8}{0.2} = 4$$,\n",
    "that is, the odds of staying on are 4 to 1 on. The odds of not staying on would be:\n",
    "odds(not staying on) = $$\\frac{q}{p} = \\frac{0.2}{0.8} = 0.25$$\n",
    " = 1 to 4, or 4 to 1 against\n",
    "\n",
    "Essentially, therefore, you can think of odds ratios as similar to betting odds. For example, the odds of different teams to win the English Premiership in 2008 at the moment of writing this (31 May 07) at one leading bookmaker are:\n",
    "\n",
    " Chelsea   11/8 \n",
    "Manchester United   13/8 \n",
    "Liverpool   9/2\n",
    "Arsenal   7/1.\n",
    "Odds rations are interpreted in the same way.\n",
    "\n",
    "In logistic regression, the dependent variable is in fact a logit, which is a log of odds, being:\n",
    "$$ logit (P) = \\ln({\\frac{P}{1-P})$$\n",
    "\n",
    "As $$\\frac{P}{1-P}=e^{\\alpha+{\\beta}x}$$, we can get back to our original logistic regression of:\n",
    "$$ P = \\frac{e^{\\alpha+{\\beta}x}}{1+e^{\\alpha+{\\beta}x}}$$\n",
    "\n",
    "showing the relationship between the two, and how we get from odds ratios to probabilities and vice versa."
   ]
  },
  {
   "cell_type": "code",
   "execution_count": null,
   "metadata": {
    "collapsed": true
   },
   "outputs": [],
   "source": [
    "# Build the model\n",
    "model = LogisticRegressionWithLBFGS.train(parsedData)\n",
    "\n",
    "# Evaluating the model on training data\n",
    "labelsAndPreds = parsedData.map(lambda p: (p.label, model.predict(p.features)))\n",
    "trainErr = labelsAndPreds.filter(lambda (v, p): v != p).count() / float(parsedData.count())\n",
    "print(\"Training Error = \" + str(trainErr))"
   ]
  },
  {
   "cell_type": "markdown",
   "metadata": {},
   "source": [
    "Row(model=1, serial=0, inceptionperiod=1978, location=35, rating=1000, uprating=0, loadslope=0, modlevel=3, hightempdays=15, criticality=3, accessibility=100)\n",
    "Row(model=1, serial=0, period=1978, rating=1000, loadfactor=1.00403, load=1004.03, damage=1.22069, maintenancescheduled=0, maintenanceperformed=0, hightempdays=13, externalremaininglife=98.7081, scheduledmaintenancecost=0)\n",
    "Row(period=1964, serial=1520, model=1, repaircost=11447.252, totalcost=18947.252)"
   ]
  },
  {
   "cell_type": "markdown",
   "metadata": {},
   "source": [
    "class PredictiveMaintenance(AbstractImperative):\n",
    "    def __init__ (self,equipmentType):\n",
    "        super(PredictiveMaintenance,self).__init__()\n",
    "        self.equipmentType = equipmentType\n",
    "        \n",
    "        self.equipmentType.ratedMTBF = SuggestedInputVariable('RatedMTBF',self.equipmentType)\n",
    "        \n",
    "        self.addEntity(self.equipmentType)\n",
    "        self.addEntity(MaintenanceTransaction('Maintenance',self.equipmentType))\n",
    "        self.addEntity(Profile('Profile',self.equipmentType))\n",
    "        \n",
    "        self.entities['Profile'].operatingHours = SuggestedInputVariable('OperatingHours',self.entities['Profile'])\n",
    "        self.entity = self.entities['Profile']\n",
    "        \n",
    "        \n",
    "    def train(self):\n",
    "        #tbd generalize\n",
    "        self.entities[self.equipmentType.name].registerCol('IsTest')\n",
    "        self.entity.joinMaster()\n",
    "        isFail = 'IsFail'\n",
    "        equipKey = self.equipmentType.getKeyCols()\n",
    "        self.entities['Maintenance'].calcEventSummary(isFail,equipKey,targetEntity=self.entity)\n",
    "        self.entity.aggregate(sourceCols=['DaysTo_IsFail','PeakLoad'] , aggregates=['mean','sum'] , targetEntity = self.entity, grainCols=['ModelNumber','SerialNumber'])\n",
    "        self.healthModel = LogRegression(name='Health',target='IsFail',features = ['Age','DaysFrom_IsFail'])\n",
    "        self.healthModel.train(self.entity)\n",
    "        self.daysToFailModel = LinRegression(name='PredictedDaysToFail',target='DaysTo_IsFail',features=['DaysFrom_IsFail','Health','MeanTimeBetweenEvents_IsFail'])\n",
    "        results = self.daysToFailModel.train(self.entity)\n",
    "        return results"
   ]
  },
  {
   "cell_type": "code",
   "execution_count": 8,
   "metadata": {
    "collapsed": false
   },
   "outputs": [],
   "source": [
    "from pyspark.sql import HiveContext\n",
    "from pyspark.mllib.clustering import KMeans\n",
    "from pyspark.mllib.linalg import Vectors\n",
    "from pyspark.mllib.stat import Statistics\n",
    "from math import sqrt\n",
    "import matplotlib.pyplot as plt\n",
    "from pylab import *\n",
    "from pyspark.mllib.classification import LogisticRegressionWithSGD\n",
    "from pyspark.mllib.regression import LabeledPoint\n",
    "from numpy import array\n",
    "\n",
    "%matplotlib inline\n",
    "\n",
    "hiveContext = HiveContext(sc)\n",
    "\n",
    "hvt_SDF = hiveContext.sql('SELECT model, serial, inceptionperiod FROM hvt')\n",
    "\n",
    "#hvt_operating_SDF= hiveContext.sql('SELECT * FROM hvt_operating')\n",
    "\n",
    "#hvt_failure_SDF = hiveContext.sql('SELECT * FROM hvt_failure')"
   ]
  },
  {
   "cell_type": "code",
   "execution_count": 9,
   "metadata": {
    "collapsed": false
   },
   "outputs": [
    {
     "data": {
      "text/plain": [
       "Row(model=1, serial=0, inceptionperiod=1978)"
      ]
     },
     "execution_count": 9,
     "metadata": {},
     "output_type": "execute_result"
    }
   ],
   "source": [
    "hvt_SDF.first()"
   ]
  },
  {
   "cell_type": "code",
   "execution_count": 10,
   "metadata": {
    "collapsed": true
   },
   "outputs": [],
   "source": [
    "feature_matrix = hvt_SDF"
   ]
  },
  {
   "cell_type": "code",
   "execution_count": 11,
   "metadata": {
    "collapsed": false
   },
   "outputs": [
    {
     "data": {
      "text/plain": [
       "DenseVector([1.0, 0.0, 1978.0])"
      ]
     },
     "execution_count": 11,
     "metadata": {},
     "output_type": "execute_result"
    }
   ],
   "source": [
    "feature_matrix_vectors = feature_matrix.map(lambda x: Vectors.dense(x)).cache()\n",
    "feature_matrix_vectors.count()\n",
    "feature_matrix_vectors.first()"
   ]
  },
  {
   "cell_type": "code",
   "execution_count": 13,
   "metadata": {
    "collapsed": false
   },
   "outputs": [
    {
     "ename": "NameError",
     "evalue": "name 'LogisticRegressionWithLBFGS' is not defined",
     "output_type": "error",
     "traceback": [
      "\u001b[1;31m---------------------------------------------------------------------------\u001b[0m",
      "\u001b[1;31mNameError\u001b[0m                                 Traceback (most recent call last)",
      "\u001b[1;32m<ipython-input-13-205b5543d486>\u001b[0m in \u001b[0;36m<module>\u001b[1;34m()\u001b[0m\n\u001b[0;32m      1\u001b[0m \u001b[1;31m# Build the model\u001b[0m\u001b[1;33m\u001b[0m\u001b[1;33m\u001b[0m\u001b[0m\n\u001b[0;32m      2\u001b[0m \u001b[0mparsedData\u001b[0m \u001b[1;33m=\u001b[0m \u001b[0mfeature_matrix_vectors\u001b[0m\u001b[1;33m\u001b[0m\u001b[0m\n\u001b[1;32m----> 3\u001b[1;33m \u001b[0mmodel\u001b[0m \u001b[1;33m=\u001b[0m \u001b[0mLogisticRegressionWithLBFGS\u001b[0m\u001b[1;33m.\u001b[0m\u001b[0mtrain\u001b[0m\u001b[1;33m(\u001b[0m\u001b[0mparsedData\u001b[0m\u001b[1;33m)\u001b[0m\u001b[1;33m\u001b[0m\u001b[0m\n\u001b[0m\u001b[0;32m      4\u001b[0m \u001b[1;33m\u001b[0m\u001b[0m\n\u001b[0;32m      5\u001b[0m \u001b[1;31m# Evaluating the model on training data\u001b[0m\u001b[1;33m\u001b[0m\u001b[1;33m\u001b[0m\u001b[0m\n",
      "\u001b[1;31mNameError\u001b[0m: name 'LogisticRegressionWithLBFGS' is not defined"
     ]
    }
   ],
   "source": [
    "# Build the model\n",
    "parsedData = feature_matrix_vectors\n",
    "model = LogisticRegressionWithLBFGS.train(parsedData)\n",
    "\n",
    "# Evaluating the model on training data\n",
    "labelsAndPreds = parsedData.map(lambda p: (p.label, model.predict(p.features)))\n",
    "trainErr = labelsAndPreds.filter(lambda (v, p): v != p).count() / float(parsedData.count())\n",
    "print(\"Training Error = \" + str(trainErr))"
   ]
  },
  {
   "cell_type": "code",
   "execution_count": null,
   "metadata": {
    "collapsed": true
   },
   "outputs": [],
   "source": []
  }
 ],
 "metadata": {
  "kernelspec": {
   "display_name": "Python 2",
   "language": "python",
   "name": "python2"
  },
  "language_info": {
   "codemirror_mode": {
    "name": "ipython",
    "version": 2
   },
   "file_extension": ".py",
   "mimetype": "text/x-python",
   "name": "python",
   "nbconvert_exporter": "python",
   "pygments_lexer": "ipython2",
   "version": "2.7.6"
  }
 },
 "nbformat": 4,
 "nbformat_minor": 0
}
